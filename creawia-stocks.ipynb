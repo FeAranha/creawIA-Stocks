{
 "cells": [
  {
   "cell_type": "code",
   "execution_count": null,
   "metadata": {},
   "outputs": [],
   "source": [
    "import numpy as np\n",
    "\n",
    "# Monkey patching: redefinindo np.float_ como np.float64\n",
    "np.float_ = np.float64\n",
    "\n",
    "#setup libs\n",
    "\n",
    "%pip install yfinance\n",
    "\n",
    "%pip install crewai\n",
    "%pip install 'crewai[tools]'\n",
    "\n",
    "%pip install langchain\n",
    "%pip install langchain-openai\n",
    "\n",
    "%pip install python-dotenv\n",
    "\n",
    "%pip freeze > requirements.txt  "
   ]
  },
  {
   "cell_type": "code",
   "execution_count": 58,
   "metadata": {},
   "outputs": [],
   "source": [
    "# import libs\n",
    "\n",
    "import json\n",
    "import os\n",
    "from datetime import datetime\n",
    "\n",
    "import yfinance as yf\n",
    "\n",
    "from crewai import Agent, Task\n",
    "\n",
    "from langchain.tools import Tool\n",
    "from langchain_openai import ChatOpenAI\n",
    "\n",
    "from dotenv import load_dotenv"
   ]
  },
  {
   "cell_type": "code",
   "execution_count": 59,
   "metadata": {},
   "outputs": [],
   "source": [
    "# agent Yahoo Finance: Tool\n",
    "def fetch_stock_price(ticket):\n",
    "  stock = yf.download(ticket, start='2023-08-08', end='2024-08-20')\n",
    "  return stock\n",
    "\n",
    "yahooFinanceTool =Tool(\n",
    "  name = 'Yahoo Finance Tool',\n",
    "  description = 'Fetches stocks prices for {ticket} from the last year about a specific company stock from Yahoo Finance API',\n",
    "  func = lambda ticket: fetch_stock_price(ticket)\n",
    ")"
   ]
  },
  {
   "cell_type": "code",
   "execution_count": 60,
   "metadata": {},
   "outputs": [],
   "source": [
    "# agent Yahoo Finance: LLM - GPT\n",
    "load_dotenv()\n",
    "\n",
    "os.environ['OPENAI_API_KEY'] = os.getenv('OPENAI_API_KEY')\n",
    "llm = ChatOpenAI(model='gpt-3.5-turbo')"
   ]
  },
  {
   "cell_type": "code",
   "execution_count": 61,
   "metadata": {},
   "outputs": [],
   "source": [
    "stockPriceAnalyst = Agent(\n",
    "  role = 'Senior stock price Analyst',\n",
    "  goal = 'Find the {ticket} stock price and analyses trends',\n",
    "  backstory = '''You`re highly experienced in analyzing the price of an specific stock and make predictions about its future price.''',\n",
    "  verbose = True,\n",
    "  llm = llm,\n",
    "  max_iter = 5,\n",
    "  memory = True,\n",
    "  tools = [yahooFinanceTool]\n",
    ")"
   ]
  },
  {
   "cell_type": "code",
   "execution_count": 62,
   "metadata": {},
   "outputs": [],
   "source": [
    "getStockPrice = Task(\n",
    "  description = 'Analize the stock {ticket} price history and create a trend analyses of up, down or sideways',\n",
    "  expected_output = '''Specify the current trend stock price - up, down or sideways.\n",
    "  eg. stock= 'APPL, price UP'\n",
    "  ''',\n",
    "  agent = stockPriceAnalyst\n",
    ")"
   ]
  }
 ],
 "metadata": {
  "kernelspec": {
   "display_name": "Python 3",
   "language": "python",
   "name": "python3"
  },
  "language_info": {
   "codemirror_mode": {
    "name": "ipython",
    "version": 3
   },
   "file_extension": ".py",
   "mimetype": "text/x-python",
   "name": "python",
   "nbconvert_exporter": "python",
   "pygments_lexer": "ipython3",
   "version": "3.10.12"
  }
 },
 "nbformat": 4,
 "nbformat_minor": 2
}
