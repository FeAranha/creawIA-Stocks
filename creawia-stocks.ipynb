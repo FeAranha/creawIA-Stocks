{
 "cells": [
  {
   "cell_type": "code",
   "execution_count": null,
   "metadata": {},
   "outputs": [],
   "source": [
    "import numpy as np\n",
    "\n",
    "# Monkey patching: redefinindo np.float_ como np.float64\n",
    "np.float_ = np.float64\n",
    "\n",
    "#setup libs\n",
    "\n",
    "%pip install yfinance\n",
    "\n",
    "%pip install crewai\n",
    "%pip install 'crewai[tools]'\n",
    "\n",
    "%pip install langchain"
   ]
  },
  {
   "cell_type": "code",
   "execution_count": 27,
   "metadata": {},
   "outputs": [],
   "source": [
    "# import libs\n",
    "\n",
    "import json\n",
    "import os\n",
    "from datetime import datetime\n",
    "\n",
    "import yfinance as yf\n",
    "\n",
    "from crewai import Agent, Task\n",
    "\n",
    "from langchain.tools import Tool"
   ]
  },
  {
   "cell_type": "code",
   "execution_count": 28,
   "metadata": {},
   "outputs": [],
   "source": [
    "# agent Yahoo Finance\n",
    "def fetch_stock_price(ticket):\n",
    "  stock = yf.download(ticket, start='2023-08-08', end='2024-08-20')\n",
    "  return stock\n",
    "\n",
    "yahooFinanceTool =Tool(\n",
    "  name = 'Yahoo Finance Tool',\n",
    "  description = 'Fetches stocks prices for {ticket} from the last year about a specific company stock from Yahoo Finance API',\n",
    "  func = lambda ticket: fetch_stock_price(ticket)\n",
    ")"
   ]
  },
  {
   "cell_type": "code",
   "execution_count": 29,
   "metadata": {},
   "outputs": [
    {
     "name": "stderr",
     "output_type": "stream",
     "text": [
      "[*********************100%%**********************]  1 of 1 completed\n"
     ]
    }
   ],
   "source": [
    "response = yahooFinanceTool.run(\"AAPL\")"
   ]
  },
  {
   "cell_type": "code",
   "execution_count": 30,
   "metadata": {},
   "outputs": [
    {
     "name": "stdout",
     "output_type": "stream",
     "text": [
      "                  Open        High         Low       Close   Adj Close  \\\n",
      "Date                                                                     \n",
      "2023-08-08  179.690002  180.270004  177.580002  179.800003  178.643387   \n",
      "2023-08-09  180.869995  180.929993  177.009995  178.190002  177.043762   \n",
      "2023-08-10  179.479996  180.750000  177.600006  177.970001  176.825165   \n",
      "2023-08-11  177.320007  178.619995  176.550003  177.789993  176.884857   \n",
      "2023-08-14  177.970001  179.690002  177.309998  179.460007  178.546387   \n",
      "...                ...         ...         ...         ...         ...   \n",
      "2024-08-13  219.009995  221.889999  219.009995  221.270004  221.270004   \n",
      "2024-08-14  220.570007  223.029999  219.699997  221.720001  221.720001   \n",
      "2024-08-15  224.600006  225.350006  222.759995  224.720001  224.720001   \n",
      "2024-08-16  223.919998  226.830002  223.649994  226.050003  226.050003   \n",
      "2024-08-19  225.720001  225.990005  223.039993  225.889999  225.889999   \n",
      "\n",
      "              Volume  \n",
      "Date                  \n",
      "2023-08-08  67823000  \n",
      "2023-08-09  60378500  \n",
      "2023-08-10  54686900  \n",
      "2023-08-11  51988100  \n",
      "2023-08-14  43675600  \n",
      "...              ...  \n",
      "2024-08-13  44155300  \n",
      "2024-08-14  41960600  \n",
      "2024-08-15  46414000  \n",
      "2024-08-16  44340200  \n",
      "2024-08-19  40639000  \n",
      "\n",
      "[260 rows x 6 columns]\n"
     ]
    }
   ],
   "source": [
    "print(response)"
   ]
  }
 ],
 "metadata": {
  "kernelspec": {
   "display_name": "Python 3",
   "language": "python",
   "name": "python3"
  },
  "language_info": {
   "codemirror_mode": {
    "name": "ipython",
    "version": 3
   },
   "file_extension": ".py",
   "mimetype": "text/x-python",
   "name": "python",
   "nbconvert_exporter": "python",
   "pygments_lexer": "ipython3",
   "version": "3.10.12"
  }
 },
 "nbformat": 4,
 "nbformat_minor": 2
}
